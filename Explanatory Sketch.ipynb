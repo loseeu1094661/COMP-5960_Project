{
 "cells": [
  {
   "cell_type": "markdown",
   "id": "ef13132e",
   "metadata": {},
   "source": [
    "# Supreme Court Opinion Readability\n",
    "## Explanatory Notebook (sketch)\n",
    "Nathan Losee and Kolby Bray"
   ]
  },
  {
   "cell_type": "markdown",
   "id": "14ec7677",
   "metadata": {},
   "source": [
    "### Supreme Court Opinions Breakdown\n",
    "Summary of supreme court opinion format (might be better to split this up to only give information in relevant sections)"
   ]
  },
  {
   "cell_type": "markdown",
   "id": "a00fc04f",
   "metadata": {},
   "source": [
    "### Readability\n",
    "Summary of readability\n",
    "Readability formulas"
   ]
  },
  {
   "cell_type": "markdown",
   "id": "c4f351b3",
   "metadata": {},
   "source": [
    "### Data Description\n",
    "How we got it, libraries used for readability, transformations, and reformatting"
   ]
  },
  {
   "cell_type": "code",
   "execution_count": null,
   "id": "df0230e5",
   "metadata": {},
   "outputs": [],
   "source": [
    "# Code for getting FRE and F-K Scores"
   ]
  },
  {
   "cell_type": "markdown",
   "id": "a65da994",
   "metadata": {},
   "source": [
    "### Data Exploration\n",
    "\n",
    "Analysis and Visualizations"
   ]
  },
  {
   "cell_type": "code",
   "execution_count": null,
   "id": "2fc0c886",
   "metadata": {},
   "outputs": [],
   "source": [
    "# Code for first chart of Average Readability over Time"
   ]
  },
  {
   "cell_type": "code",
   "execution_count": null,
   "id": "14790a77",
   "metadata": {},
   "outputs": [],
   "source": [
    "# Code for Individual Justice over Time"
   ]
  },
  {
   "cell_type": "code",
   "execution_count": null,
   "id": "f03678b0",
   "metadata": {},
   "outputs": [],
   "source": [
    "# Code for violin plots, Concurring and Dissenting over Time"
   ]
  },
  {
   "cell_type": "code",
   "execution_count": null,
   "id": "d2d473e0",
   "metadata": {},
   "outputs": [],
   "source": [
    "# Code for Controversial Flag, violin plots and bar chart"
   ]
  },
  {
   "cell_type": "markdown",
   "id": "b1043444",
   "metadata": {},
   "source": [
    "### Summary\n",
    "\n",
    " What it means, call for action, final analysis"
   ]
  }
 ],
 "metadata": {
  "kernelspec": {
   "display_name": "Python 3 (ipykernel)",
   "language": "python",
   "name": "python3"
  },
  "language_info": {
   "codemirror_mode": {
    "name": "ipython",
    "version": 3
   },
   "file_extension": ".py",
   "mimetype": "text/x-python",
   "name": "python",
   "nbconvert_exporter": "python",
   "pygments_lexer": "ipython3",
   "version": "3.11.7"
  }
 },
 "nbformat": 4,
 "nbformat_minor": 5
}
